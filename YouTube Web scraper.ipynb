{
 "cells": [
  {
   "cell_type": "code",
   "execution_count": 65,
   "metadata": {},
   "outputs": [],
   "source": [
    "from selenium import webdriver\n",
    "from selenium.webdriver.chrome.options import Options\n",
    "import time\n",
    "import json\n",
    "from selenium.webdriver.common.keys import Keys\n",
    "from selenium.common.exceptions import NoSuchElementException\n",
    "from selenium.webdriver import Chrome\n",
    "import json"
   ]
  },
  {
   "cell_type": "code",
   "execution_count": 66,
   "metadata": {},
   "outputs": [],
   "source": [
    "\n",
    "baseUrl=\"https://youtube.com\"\n",
    "keyword=\"python\""
   ]
  },
  {
   "cell_type": "code",
   "execution_count": 67,
   "metadata": {},
   "outputs": [],
   "source": [
    "\n",
    "driver=Chrome()\n",
    "driver.get(baseUrl)\n",
    "keyword=\"python\"\n",
    "search=driver.find_element_by_xpath('//input[@name=\"search_query\"]')\n",
    "search.send_keys(keyword)\n",
    "search.send_keys(Keys.RETURN)\n",
    "time.sleep(20)\n",
    "all_chnnelList=driver.find_elements_by_xpath('//*[@id=\"text\"]/a')\n",
    "links=list(dict.fromkeys(map(lambda a: a.get_attribute(\"href\"),all_chnnelList)))\n",
    "    "
   ]
  },
  {
   "cell_type": "code",
   "execution_count": 69,
   "metadata": {},
   "outputs": [],
   "source": [
    "details=[]\n",
    "for url in links:\n",
    "    driver.get(f\"{url}/about\")\n",
    "    cname=driver.find_element_by_xpath('//*[@id=\"text\"]').text\n",
    "    description=driver.find_element_by_xpath('//*[@id=\"description-container\"]').text\n",
    "    clinks=url\n",
    "    #total_views=driver.find_element_by_xpath('//*[@id=\"right-column\"]/yt-formatted-string[3]').text()\n",
    "    otherlinks=driver.find_elements_by_xpath('//*[@id=\"links-container\"]')\n",
    "    otherlin=list(dict.fromkeys(map(lambda a: a.get_attribute(\"href\"),otherlinks)))\n",
    "    obj={\n",
    "            \"cname\": cname,\n",
    "            \"clinks\": clinks,\n",
    "            \"description\": description,\n",
    "            #\"total_views\": total_views,\n",
    "            \"otherlin\":otherlin\n",
    "        }\n",
    "    details.append(obj)\n",
    "    "
   ]
  },
  {
   "cell_type": "code",
   "execution_count": null,
   "metadata": {},
   "outputs": [],
   "source": []
  },
  {
   "cell_type": "code",
   "execution_count": 71,
   "metadata": {},
   "outputs": [],
   "source": []
  },
  {
   "cell_type": "code",
   "execution_count": 73,
   "metadata": {},
   "outputs": [
    {
     "data": {
      "text/plain": [
       "[{'cname': 'Programming with Mosh',\n",
       "  'clinks': 'https://www.youtube.com/user/programmingwithmosh',\n",
       "  'description': 'Description\\nI train professional software engineers that companies love to hire. \\n\\nMy courses: http://codewithmosh.com \\n\\nMy blog: http://programmingwithmosh.com\\n\\nConnect on social media: \\n\\nhttp://www.twitter.com/moshhamedani\\n\\nhttps://www.facebook.com/programmingwithmosh\\n\\n#python #javascript #chsarp',\n",
       "  'otherlin': [None]},\n",
       " {'cname': '',\n",
       "  'clinks': 'https://www.youtube.com/channel/UCeVMnSShP_Iviwkknt83cww',\n",
       "  'description': 'Description\\nCode With Harry is my attempt to teach basics and those coding techniques to people in short time which took me ages to learn.\\nAt Code With Harry, I provide a quick and to the point demo along with resources of anything and everything I teach. Source code and other resources are hosted on my website CodeWithHarry.com. I provide source code(if any) in the description of every video.\\nQuality programming videos in Hindi :)',\n",
       "  'otherlin': [None]},\n",
       " {'cname': '',\n",
       "  'clinks': 'https://www.youtube.com/user/javaboynavin',\n",
       "  'description': 'Description\\nHey Aliens!!!\\nI make free programming tutorials from beginner to advanced level\\nThat includes Java for beginner, Advanced Java, Python, Android, Blockchain, JavaScript, Kotlin, Scala, Spring Framework, Hibernate, C programming, Data Structures, Networking, REST API, and many more.\\nSometimes I make videos on motivation and take sessions with Tech industry experts.\\nThere is something for everyone here. \\n\\nIf my videos have helped you in any way do support Telusko to make more content.\\nFor Donation \\nPayPal: https://goo.gl/ko8KrB\\nPatreon: https://goo.gl/rYLSCs\\nInstamojo: https://goo.gl/YSaZKT',\n",
       "  'otherlin': [None]},\n",
       " {'cname': '',\n",
       "  'clinks': 'https://www.youtube.com/channel/UC8butISFwT-Wl7EV0hUK0BQ',\n",
       "  'description': 'Description\\nLearn to code for free.',\n",
       "  'otherlin': [None]},\n",
       " {'cname': '',\n",
       "  'clinks': 'https://www.youtube.com/channel/UCrkQMtWNtuq-1j0q8c2RVeQ',\n",
       "  'description': 'Description\\nHarsht Vashisth is a full stack developer who is working on technologies like python and react on daily basis. Along with his job his passion of teaching led him to create high-quality tutorials on YouTube. And as a hobby he learns math and data science. \\nIn his school there was no subject related to programming up to 12th class but he started learning to code when he was in 9th class without any help of tutors.He read the book \"Head first HTML and CSS\" as a first coding book. After that he learned JavaScript as a first programming language and he started creating websites. When he was in 11th class he started learning python and he created his own software like music player, file manager which gave him confidence. During college time he created many projects in python (machine learning/AI) , Desktop application, android/IOS applications using several technologies like python, React, JavaScript, Java, C++ etc. \\nNow he is also working on his startup.',\n",
       "  'otherlin': [None]},\n",
       " {'cname': '',\n",
       "  'clinks': 'https://www.youtube.com/user/schafer5',\n",
       "  'description': \"Description\\nWelcome to my Channel. This channel is focused on creating tutorials and walkthroughs for software developers, programmers, and engineers. We cover topics for all different skill levels, so whether you are a beginner or have many years of experience, this channel will have something for you.\\n\\nWe've already released a wide variety of videos on topics that include: Python, Git, Development Environments, Terminal Commands, SQL, Programming Terms, JavaScript, Computer Science Fundamentals, and plenty of other tips and tricks which will help you in your career.\\n\\n\\nIf you enjoy these videos and would like to support my channel, I would greatly appreciate any assistance through my Patreon account:\\nhttps://www.patreon.com/coreyms\\n\\n\\nYou can find me on:\\nMy website - http://coreyms.com/\\nFacebook - https://www.facebook.com/CoreyMSchafer\\nTwitter - https://twitter.com/CoreyMSchafer\\nGoogle Plus - https://plus.google.com/+CoreySchafer44/posts\\nTumblr - https://www.tumblr.com/blog/mycms\",\n",
       "  'otherlin': [None]},\n",
       " {'cname': '',\n",
       "  'clinks': 'https://www.youtube.com/user/edurekaIN',\n",
       "  'description': \"Description\\nThank you for Subscribing! If you have not, Subscribe now!\\n\\nWe are a live & interactive e-learning platform with the mission of making learning accessible to everyone. We offer instructor-led courses, along with 24/7 on-demand support to achieve highest course completion rates in the industry! Our real-life projects, 24*7 Support, Personal Learning Managers ensure that your learning goals are met!\\n\\nSpecial offer! Flat 20% Off on All Courses, use code: YOUTUBE20 \\n\\nBy subscribing to Edureka Channel, you'll never miss out on high-quality videos, webinars, sample classes & lectures from industry practitioners & influencers. Our research team curates content on trending topics in the areas of Big Data & Hadoop, DevOps, Blockchain, Artificial Intelligence, Angular, Data Science, Apache Spark, Python, Selenium, Tableau, Android, PMP certification, AWS Architect, Digital Marketing and many more. \\n\\nCall us on IND: 9606058406 / US: 18338555775 (toll-free) to talk to our Course Advisors.\",\n",
       "  'otherlin': [None]},\n",
       " {'cname': '',\n",
       "  'clinks': 'https://www.youtube.com/user/beaconelearning',\n",
       "  'description': \"Description\\nGreat Learning aims to make quality education accessible to anyone who wants to learn. Great Learning Academy (http://greatlearning.in/academy), our commitment to aid free learning, offers 200+ completely free courses in the most in-demand job domains. In addition to videos you can earn certificates of completion, do assignments and projects, attend live sessions and interact with top faculty & industry experts. All for free.\\n\\nGreat Learning is Asia’s leading professional learning platform,  offering top-ranked programs in AI, Data Science, Analytics, Cloud Computing, Full-stack Development, Cybersecurity, Digital Marketing, Digital Business, Design Thinking and more. Great Learning's programs are developed in collaboration with the world's foremost academic institutions like Stanford GSB, MIT, IITB, IITM, Great Lakes Inst of Management, and The University of Texas at Austin.\\n\\nWe have delivered over 30 Million learning hours and impacted 10+ Million learners in 140+ Countries.\",\n",
       "  'otherlin': [None]},\n",
       " {'cname': '',\n",
       "  'clinks': 'https://www.youtube.com/channel/UCN3-BVMnr44LIUheSuppw1A',\n",
       "  'description': 'Description\\nक्विक सपोर्ट चैनल में आपका स्वागत हैं इस चैनल मैं हम आपको 100% गेरेंटी देते हैं की हम बोरिंग विडियो अपलोड नहीं करेंगे और जिस टॉपिक के बारे में बताया गया होगा उसकी ही बात करेंगे और हर एक  टॉपिक्स के उपर हम पूरी जानकारी देने की कोशिश करेंगे थैंक्स!\\n\\nWebsite: https://qsofficial.com\\nFacebook: https://www.facebook.com/QuickSupportChannel\\nTwitter:  https://twitter.com/QS_Channel\\nInstagram: https://www.instagram.com/quick_support007\\nYoutube: https://www.youtube.com/c/QuickSupport\\nLinkedin: https://www.linkedin.com/in/Anil-Nakrani\\nChannel Owner: Anil Nakrani',\n",
       "  'otherlin': [None]},\n",
       " {'cname': '',\n",
       "  'clinks': 'https://www.youtube.com/channel/UClLXKYEEM8OBBx85DOa6-cg',\n",
       "  'description': \"Description\\nDevslopes is the world's most affordable and effective platform to learn how to code.\",\n",
       "  'otherlin': [None]},\n",
       " {'cname': '',\n",
       "  'clinks': 'https://www.youtube.com/user/intellipaaat',\n",
       "  'description': 'Description\\nIntellipaat is a global online professional training provider. We are offering some of the most updated, industry-designed certification training programs which includes courses in Big Data, Data Science, Artificial Intelligence and 150 other top trending technologies.\\nWe help professionals make the right career decisions, choose the trainers with over a decade of industry experience, provide extensive hands-on projects, rigorously evaluate learner progress and offer industry-recognized certifications. We also assist corporate clients to upskill their workforce and keep them in sync with the changing technology and digital landscape.\\n\\nFor more information visit us at:- https://intellipaat.com\\n\\nContact us at:- sales@intellipaat.com | +91-7022374614 , US: 1-800-216-8930',\n",
       "  'otherlin': [None]},\n",
       " {'cname': '',\n",
       "  'clinks': 'https://www.youtube.com/channel/UC4xKdmAXFh4ACyhpiQ_3qBw',\n",
       "  'description': \"Description\\nEx-Google/ex-Facebook tech lead, multi-millionaire app entrepreneur, digital nomad traveler, software engineer. ☕️ 👌\\n\\nIf you're looking for help landing a job as a software engineer, resume critique, and mentorship, join me at:\\nhttp://techinterviewpro.com/\\nhttp://coderpro.com/\\n\\nLearn the secrets of YouTube success with me here:\\nhttp://youtubebackstage.com/\\n\\nAdd me here:\\nhttp://instagram.com/techleadhd\\nhttp://twitter.com/techleadhd\\nhttps://www.linkedin.com/in/patrickshyu/\\n\\nBusiness Inquiries: techleadhd@gmail.com\",\n",
       "  'otherlin': [None]},\n",
       " {'cname': '',\n",
       "  'clinks': 'https://www.youtube.com/user/durgasoftware',\n",
       "  'description': 'Description\\nDURGA Software Solutions is an Institute, which having more experienced and talented faculties to guide students.  It is resided at Hyderabad, India. Our Youtube channel represents our organization expertise and we are very happy to share our knowledge through out the Globe.\\n\\nVisit Course wise Videos at:\\nhttp://durgasoftvideos.com\\n\\n\\nSubscribe to this Channel to get new updates, free tutorial videos from us : \\nhttp://www.youtube.com/subscription_center?add_user=durgasoftware\\n\\nShare, Comment on our Videos and Subscribe the Channel with your friends and colleagues to upgrade the skills.\\n\\nFor more queries & enquire us for demo sessions, updates send us an email to   durgasoftonlinetraining@gmail.com\\n\\nContact directly@:\\nDurga Software Solutions\\nPh:  +91-888 525 2627  (Santhosh) \\n        +91-720 721 2428  \\n        +91-720 721 2427\\n        +91-8096969696\\n        +1-(443) 332-6786\\nhttp://durgasoft.com\\nhttp://durgasoftonline.com\\nhttp://durgasoftonlinetraining.com',\n",
       "  'otherlin': [None]},\n",
       " {'cname': '',\n",
       "  'clinks': 'https://www.youtube.com/channel/UC4JX40jDee_tINbkjycV4Sg',\n",
       "  'description': 'Description\\nLearn programming, software engineering, machine learning and everything tech from this channel. With a special emphasis on python and javascript my channel aims to give you free resources so that you can learn to code and dive into the software engineering and programming industry. My goal is to provide the highest quality programming and tech videos on the internet! ',\n",
       "  'otherlin': [None]},\n",
       " {'cname': '',\n",
       "  'clinks': 'https://www.youtube.com/channel/UCxX9wt5FWQUAAz4UrysqK9A',\n",
       "  'description': \"Description\\nHey guys, I'm YK, and I usually make videos about programming and computer science here.\\n\\nHave a programming-related question? I might have already answered it on my FAQ page at: csdojo.io/faq\\n\\nIf you can't find your question there, maybe try asking it on one of our communities at: csdojo.io/community\\n\\n\\nBusiness email: https://www.csdojo.io/contact/\\nThe channel logo was made by: Youdong Zhang\",\n",
       "  'otherlin': [None]},\n",
       " {'cname': '',\n",
       "  'clinks': 'https://www.youtube.com/channel/UC1tVU8H153ZFO9eRsxdJlhA',\n",
       "  'description': 'Description\\ni Love Technology !\\n\\nManoj Saru (24 , Delhi) | Youtuber | Blogger | Software Engineer | \\nVideo Topic : Gadgets Reviews Unboxing  & Comparison | Computer | Mobile tips tricks| internet | Tech Explain | How to tutorials !\\n\\nFor business inquiries:  TechnologyGyan4u@gmail.com \\n\\n \" I DO NOT PROVIDE TECH SUPPORT OVER THE EMAIL \"',\n",
       "  'otherlin': [None]},\n",
       " {'cname': '',\n",
       "  'clinks': 'https://www.youtube.com/channel/UCqrILQNl5Ed9Dz6CGMyvMTQ',\n",
       "  'description': 'Description\\nYou can find awesome programming lessons here! Also, expect programming tips and tricks that will take your coding skills to the next level.',\n",
       "  'otherlin': [None]},\n",
       " {'cname': '',\n",
       "  'clinks': 'https://www.youtube.com/channel/UC63URkuUvnugRBeTNqmToKg',\n",
       "  'description': 'Description\\nOur Channel consists of Technical videos related to COMPUTER SCIENCE & ENGINEERING to help the people  in self-learning.\\n\\nClick the below link to Subscribe to Our Channel\\nhttps://goo.gl/YLo7SL',\n",
       "  'otherlin': [None]}]"
      ]
     },
     "execution_count": 73,
     "metadata": {},
     "output_type": "execute_result"
    }
   ],
   "source": [
    "details"
   ]
  },
  {
   "cell_type": "code",
   "execution_count": null,
   "metadata": {},
   "outputs": [],
   "source": [
    "\n",
    "  "
   ]
  },
  {
   "cell_type": "code",
   "execution_count": 23,
   "metadata": {},
   "outputs": [],
   "source": []
  },
  {
   "cell_type": "code",
   "execution_count": null,
   "metadata": {},
   "outputs": [],
   "source": []
  },
  {
   "cell_type": "code",
   "execution_count": null,
   "metadata": {},
   "outputs": [],
   "source": []
  },
  {
   "cell_type": "code",
   "execution_count": null,
   "metadata": {},
   "outputs": [],
   "source": []
  },
  {
   "cell_type": "code",
   "execution_count": null,
   "metadata": {},
   "outputs": [],
   "source": []
  }
 ],
 "metadata": {
  "kernelspec": {
   "display_name": "Python 3",
   "language": "python",
   "name": "python3"
  },
  "language_info": {
   "codemirror_mode": {
    "name": "ipython",
    "version": 3
   },
   "file_extension": ".py",
   "mimetype": "text/x-python",
   "name": "python",
   "nbconvert_exporter": "python",
   "pygments_lexer": "ipython3",
   "version": "3.7.3"
  }
 },
 "nbformat": 4,
 "nbformat_minor": 2
}
